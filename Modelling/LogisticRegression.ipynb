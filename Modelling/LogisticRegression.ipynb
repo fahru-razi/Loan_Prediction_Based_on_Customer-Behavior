{
 "cells": [
  {
   "attachments": {},
   "cell_type": "markdown",
   "metadata": {},
   "source": [
    "# Modelling menggunakan Logistic Regression"
   ]
  },
  {
   "cell_type": "code",
   "execution_count": 18,
   "metadata": {},
   "outputs": [],
   "source": [
    "# Import dataset\n",
    "import pandas as pd\n",
    "import numpy as np\n",
    "import matplotlib.pyplot as plt\n",
    "from sklearn.model_selection import train_test_split, cross_val_score, GridSearchCV\n",
    "from sklearn.linear_model import LogisticRegression\n",
    "from sklearn.metrics import confusion_matrix, classification_report\n",
    "from sklearn.preprocessing import StandardScaler"
   ]
  },
  {
   "cell_type": "code",
   "execution_count": 2,
   "metadata": {},
   "outputs": [
    {
     "data": {
      "text/html": [
       "<div>\n",
       "<style scoped>\n",
       "    .dataframe tbody tr th:only-of-type {\n",
       "        vertical-align: middle;\n",
       "    }\n",
       "\n",
       "    .dataframe tbody tr th {\n",
       "        vertical-align: top;\n",
       "    }\n",
       "\n",
       "    .dataframe thead th {\n",
       "        text-align: right;\n",
       "    }\n",
       "</style>\n",
       "<table border=\"1\" class=\"dataframe\">\n",
       "  <thead>\n",
       "    <tr style=\"text-align: right;\">\n",
       "      <th></th>\n",
       "      <th>Married/Single</th>\n",
       "      <th>Profession_Group</th>\n",
       "      <th>Age_Group</th>\n",
       "      <th>Income_Group</th>\n",
       "      <th>Experience_Group</th>\n",
       "      <th>CURRENT_JOB_Group</th>\n",
       "      <th>State_Zone</th>\n",
       "      <th>City_State</th>\n",
       "      <th>Risk_Flag</th>\n",
       "    </tr>\n",
       "  </thead>\n",
       "  <tbody>\n",
       "    <tr>\n",
       "      <th>0</th>\n",
       "      <td>1.0</td>\n",
       "      <td>6.0</td>\n",
       "      <td>2.0</td>\n",
       "      <td>0.0</td>\n",
       "      <td>0.0</td>\n",
       "      <td>1.0</td>\n",
       "      <td>3.0</td>\n",
       "      <td>7.0</td>\n",
       "      <td>0</td>\n",
       "    </tr>\n",
       "    <tr>\n",
       "      <th>1</th>\n",
       "      <td>1.0</td>\n",
       "      <td>6.0</td>\n",
       "      <td>1.0</td>\n",
       "      <td>0.0</td>\n",
       "      <td>1.0</td>\n",
       "      <td>2.0</td>\n",
       "      <td>3.0</td>\n",
       "      <td>7.0</td>\n",
       "      <td>0</td>\n",
       "    </tr>\n",
       "    <tr>\n",
       "      <th>2</th>\n",
       "      <td>0.0</td>\n",
       "      <td>6.0</td>\n",
       "      <td>0.0</td>\n",
       "      <td>0.0</td>\n",
       "      <td>0.0</td>\n",
       "      <td>1.0</td>\n",
       "      <td>2.0</td>\n",
       "      <td>6.0</td>\n",
       "      <td>0</td>\n",
       "    </tr>\n",
       "    <tr>\n",
       "      <th>3</th>\n",
       "      <td>1.0</td>\n",
       "      <td>6.0</td>\n",
       "      <td>1.0</td>\n",
       "      <td>0.0</td>\n",
       "      <td>0.0</td>\n",
       "      <td>0.0</td>\n",
       "      <td>0.0</td>\n",
       "      <td>4.0</td>\n",
       "      <td>1</td>\n",
       "    </tr>\n",
       "    <tr>\n",
       "      <th>4</th>\n",
       "      <td>1.0</td>\n",
       "      <td>5.0</td>\n",
       "      <td>1.0</td>\n",
       "      <td>0.0</td>\n",
       "      <td>1.0</td>\n",
       "      <td>1.0</td>\n",
       "      <td>2.0</td>\n",
       "      <td>6.0</td>\n",
       "      <td>1</td>\n",
       "    </tr>\n",
       "  </tbody>\n",
       "</table>\n",
       "</div>"
      ],
      "text/plain": [
       "   Married/Single  Profession_Group  Age_Group  Income_Group  \\\n",
       "0             1.0               6.0        2.0           0.0   \n",
       "1             1.0               6.0        1.0           0.0   \n",
       "2             0.0               6.0        0.0           0.0   \n",
       "3             1.0               6.0        1.0           0.0   \n",
       "4             1.0               5.0        1.0           0.0   \n",
       "\n",
       "   Experience_Group  CURRENT_JOB_Group  State_Zone  City_State  Risk_Flag  \n",
       "0               0.0                1.0         3.0         7.0          0  \n",
       "1               1.0                2.0         3.0         7.0          0  \n",
       "2               0.0                1.0         2.0         6.0          0  \n",
       "3               0.0                0.0         0.0         4.0          1  \n",
       "4               1.0                1.0         2.0         6.0          1  "
      ]
     },
     "execution_count": 2,
     "metadata": {},
     "output_type": "execute_result"
    }
   ],
   "source": [
    "# Load data\n",
    "\n",
    "data_mentah = pd.read_csv('D:\\Loan-Prediction-Based-on-Customer-Behavior\\Dataset\\data_mentah.csv')\n",
    "data_group = pd.read_csv('D:\\Loan-Prediction-Based-on-Customer-Behavior\\Dataset\\data_group.csv')\n",
    "\n",
    "data_group.head()"
   ]
  },
  {
   "cell_type": "code",
   "execution_count": 3,
   "metadata": {},
   "outputs": [
    {
     "data": {
      "text/html": [
       "<div>\n",
       "<style scoped>\n",
       "    .dataframe tbody tr th:only-of-type {\n",
       "        vertical-align: middle;\n",
       "    }\n",
       "\n",
       "    .dataframe tbody tr th {\n",
       "        vertical-align: top;\n",
       "    }\n",
       "\n",
       "    .dataframe thead th {\n",
       "        text-align: right;\n",
       "    }\n",
       "</style>\n",
       "<table border=\"1\" class=\"dataframe\">\n",
       "  <thead>\n",
       "    <tr style=\"text-align: right;\">\n",
       "      <th></th>\n",
       "      <th>Income</th>\n",
       "      <th>Age</th>\n",
       "      <th>Experience</th>\n",
       "      <th>CURRENT_JOB_YRS</th>\n",
       "      <th>CURRENT_HOUSE_YRS</th>\n",
       "      <th>Married/Single</th>\n",
       "      <th>House_Ownership</th>\n",
       "      <th>Car_Ownership</th>\n",
       "      <th>Profession</th>\n",
       "      <th>CITY</th>\n",
       "      <th>STATE</th>\n",
       "      <th>Risk_Flag</th>\n",
       "    </tr>\n",
       "  </thead>\n",
       "  <tbody>\n",
       "    <tr>\n",
       "      <th>0</th>\n",
       "      <td>0.129487</td>\n",
       "      <td>0.034483</td>\n",
       "      <td>0.15</td>\n",
       "      <td>0.214286</td>\n",
       "      <td>0.75</td>\n",
       "      <td>1.0</td>\n",
       "      <td>2.0</td>\n",
       "      <td>0.0</td>\n",
       "      <td>33.0</td>\n",
       "      <td>251.0</td>\n",
       "      <td>13.0</td>\n",
       "      <td>0</td>\n",
       "    </tr>\n",
       "    <tr>\n",
       "      <th>1</th>\n",
       "      <td>0.757206</td>\n",
       "      <td>0.327586</td>\n",
       "      <td>0.50</td>\n",
       "      <td>0.642857</td>\n",
       "      <td>0.75</td>\n",
       "      <td>1.0</td>\n",
       "      <td>2.0</td>\n",
       "      <td>0.0</td>\n",
       "      <td>43.0</td>\n",
       "      <td>227.0</td>\n",
       "      <td>14.0</td>\n",
       "      <td>0</td>\n",
       "    </tr>\n",
       "    <tr>\n",
       "      <th>2</th>\n",
       "      <td>0.398564</td>\n",
       "      <td>0.775862</td>\n",
       "      <td>0.20</td>\n",
       "      <td>0.285714</td>\n",
       "      <td>0.00</td>\n",
       "      <td>0.0</td>\n",
       "      <td>2.0</td>\n",
       "      <td>0.0</td>\n",
       "      <td>47.0</td>\n",
       "      <td>8.0</td>\n",
       "      <td>12.0</td>\n",
       "      <td>0</td>\n",
       "    </tr>\n",
       "    <tr>\n",
       "      <th>3</th>\n",
       "      <td>0.625263</td>\n",
       "      <td>0.344828</td>\n",
       "      <td>0.10</td>\n",
       "      <td>0.142857</td>\n",
       "      <td>0.50</td>\n",
       "      <td>1.0</td>\n",
       "      <td>2.0</td>\n",
       "      <td>1.0</td>\n",
       "      <td>43.0</td>\n",
       "      <td>54.0</td>\n",
       "      <td>17.0</td>\n",
       "      <td>1</td>\n",
       "    </tr>\n",
       "    <tr>\n",
       "      <th>4</th>\n",
       "      <td>0.576454</td>\n",
       "      <td>0.448276</td>\n",
       "      <td>0.55</td>\n",
       "      <td>0.214286</td>\n",
       "      <td>1.00</td>\n",
       "      <td>1.0</td>\n",
       "      <td>2.0</td>\n",
       "      <td>0.0</td>\n",
       "      <td>11.0</td>\n",
       "      <td>296.0</td>\n",
       "      <td>22.0</td>\n",
       "      <td>1</td>\n",
       "    </tr>\n",
       "  </tbody>\n",
       "</table>\n",
       "</div>"
      ],
      "text/plain": [
       "     Income       Age  Experience  CURRENT_JOB_YRS  CURRENT_HOUSE_YRS  \\\n",
       "0  0.129487  0.034483        0.15         0.214286               0.75   \n",
       "1  0.757206  0.327586        0.50         0.642857               0.75   \n",
       "2  0.398564  0.775862        0.20         0.285714               0.00   \n",
       "3  0.625263  0.344828        0.10         0.142857               0.50   \n",
       "4  0.576454  0.448276        0.55         0.214286               1.00   \n",
       "\n",
       "   Married/Single  House_Ownership  Car_Ownership  Profession   CITY  STATE  \\\n",
       "0             1.0              2.0            0.0        33.0  251.0   13.0   \n",
       "1             1.0              2.0            0.0        43.0  227.0   14.0   \n",
       "2             0.0              2.0            0.0        47.0    8.0   12.0   \n",
       "3             1.0              2.0            1.0        43.0   54.0   17.0   \n",
       "4             1.0              2.0            0.0        11.0  296.0   22.0   \n",
       "\n",
       "   Risk_Flag  \n",
       "0          0  \n",
       "1          0  \n",
       "2          0  \n",
       "3          1  \n",
       "4          1  "
      ]
     },
     "execution_count": 3,
     "metadata": {},
     "output_type": "execute_result"
    }
   ],
   "source": [
    "data_mentah.head()"
   ]
  },
  {
   "attachments": {},
   "cell_type": "markdown",
   "metadata": {},
   "source": [
    "## Data Preparation"
   ]
  },
  {
   "cell_type": "code",
   "execution_count": 4,
   "metadata": {},
   "outputs": [
    {
     "name": "stdout",
     "output_type": "stream",
     "text": [
      "(442008, 8)\n",
      "(442008,)\n",
      "(252000, 11)\n",
      "(252000,)\n"
     ]
    }
   ],
   "source": [
    "# Split variabel dependen & independen\n",
    "x1_lr = data_group.drop('Risk_Flag', axis=1).values\n",
    "y1_lr = data_group['Risk_Flag']\n",
    "y1_lr = y1_lr.astype(int)\n",
    "\n",
    "x2_lr = data_mentah.drop('Risk_Flag', axis=1).values\n",
    "y2_lr = data_mentah['Risk_Flag']\n",
    "y2_lr = y2_lr.astype(int)\n",
    "\n",
    "print(x1_lr.shape)\n",
    "print(y1_lr.shape)\n",
    "print(x2_lr.shape)\n",
    "print(y2_lr.shape)"
   ]
  },
  {
   "attachments": {},
   "cell_type": "markdown",
   "metadata": {},
   "source": [
    "## Data Modelling"
   ]
  },
  {
   "attachments": {},
   "cell_type": "markdown",
   "metadata": {},
   "source": [
    "### Data Group"
   ]
  },
  {
   "cell_type": "code",
   "execution_count": 5,
   "metadata": {},
   "outputs": [],
   "source": [
    "# Split train & test\n",
    "## data group\n",
    "x1_train, x1_test, y1_train, y1_test = train_test_split(x1_lr, y1_lr, test_size=0.2, random_state=42)"
   ]
  },
  {
   "cell_type": "code",
   "execution_count": 6,
   "metadata": {},
   "outputs": [
    {
     "data": {
      "text/html": [
       "<style>#sk-container-id-1 {color: black;}#sk-container-id-1 pre{padding: 0;}#sk-container-id-1 div.sk-toggleable {background-color: white;}#sk-container-id-1 label.sk-toggleable__label {cursor: pointer;display: block;width: 100%;margin-bottom: 0;padding: 0.3em;box-sizing: border-box;text-align: center;}#sk-container-id-1 label.sk-toggleable__label-arrow:before {content: \"▸\";float: left;margin-right: 0.25em;color: #696969;}#sk-container-id-1 label.sk-toggleable__label-arrow:hover:before {color: black;}#sk-container-id-1 div.sk-estimator:hover label.sk-toggleable__label-arrow:before {color: black;}#sk-container-id-1 div.sk-toggleable__content {max-height: 0;max-width: 0;overflow: hidden;text-align: left;background-color: #f0f8ff;}#sk-container-id-1 div.sk-toggleable__content pre {margin: 0.2em;color: black;border-radius: 0.25em;background-color: #f0f8ff;}#sk-container-id-1 input.sk-toggleable__control:checked~div.sk-toggleable__content {max-height: 200px;max-width: 100%;overflow: auto;}#sk-container-id-1 input.sk-toggleable__control:checked~label.sk-toggleable__label-arrow:before {content: \"▾\";}#sk-container-id-1 div.sk-estimator input.sk-toggleable__control:checked~label.sk-toggleable__label {background-color: #d4ebff;}#sk-container-id-1 div.sk-label input.sk-toggleable__control:checked~label.sk-toggleable__label {background-color: #d4ebff;}#sk-container-id-1 input.sk-hidden--visually {border: 0;clip: rect(1px 1px 1px 1px);clip: rect(1px, 1px, 1px, 1px);height: 1px;margin: -1px;overflow: hidden;padding: 0;position: absolute;width: 1px;}#sk-container-id-1 div.sk-estimator {font-family: monospace;background-color: #f0f8ff;border: 1px dotted black;border-radius: 0.25em;box-sizing: border-box;margin-bottom: 0.5em;}#sk-container-id-1 div.sk-estimator:hover {background-color: #d4ebff;}#sk-container-id-1 div.sk-parallel-item::after {content: \"\";width: 100%;border-bottom: 1px solid gray;flex-grow: 1;}#sk-container-id-1 div.sk-label:hover label.sk-toggleable__label {background-color: #d4ebff;}#sk-container-id-1 div.sk-serial::before {content: \"\";position: absolute;border-left: 1px solid gray;box-sizing: border-box;top: 0;bottom: 0;left: 50%;z-index: 0;}#sk-container-id-1 div.sk-serial {display: flex;flex-direction: column;align-items: center;background-color: white;padding-right: 0.2em;padding-left: 0.2em;position: relative;}#sk-container-id-1 div.sk-item {position: relative;z-index: 1;}#sk-container-id-1 div.sk-parallel {display: flex;align-items: stretch;justify-content: center;background-color: white;position: relative;}#sk-container-id-1 div.sk-item::before, #sk-container-id-1 div.sk-parallel-item::before {content: \"\";position: absolute;border-left: 1px solid gray;box-sizing: border-box;top: 0;bottom: 0;left: 50%;z-index: -1;}#sk-container-id-1 div.sk-parallel-item {display: flex;flex-direction: column;z-index: 1;position: relative;background-color: white;}#sk-container-id-1 div.sk-parallel-item:first-child::after {align-self: flex-end;width: 50%;}#sk-container-id-1 div.sk-parallel-item:last-child::after {align-self: flex-start;width: 50%;}#sk-container-id-1 div.sk-parallel-item:only-child::after {width: 0;}#sk-container-id-1 div.sk-dashed-wrapped {border: 1px dashed gray;margin: 0 0.4em 0.5em 0.4em;box-sizing: border-box;padding-bottom: 0.4em;background-color: white;}#sk-container-id-1 div.sk-label label {font-family: monospace;font-weight: bold;display: inline-block;line-height: 1.2em;}#sk-container-id-1 div.sk-label-container {text-align: center;}#sk-container-id-1 div.sk-container {/* jupyter's `normalize.less` sets `[hidden] { display: none; }` but bootstrap.min.css set `[hidden] { display: none !important; }` so we also need the `!important` here to be able to override the default hidden behavior on the sphinx rendered scikit-learn.org. See: https://github.com/scikit-learn/scikit-learn/issues/21755 */display: inline-block !important;position: relative;}#sk-container-id-1 div.sk-text-repr-fallback {display: none;}</style><div id=\"sk-container-id-1\" class=\"sk-top-container\"><div class=\"sk-text-repr-fallback\"><pre>LogisticRegression()</pre><b>In a Jupyter environment, please rerun this cell to show the HTML representation or trust the notebook. <br />On GitHub, the HTML representation is unable to render, please try loading this page with nbviewer.org.</b></div><div class=\"sk-container\" hidden><div class=\"sk-item\"><div class=\"sk-estimator sk-toggleable\"><input class=\"sk-toggleable__control sk-hidden--visually\" id=\"sk-estimator-id-1\" type=\"checkbox\" checked><label for=\"sk-estimator-id-1\" class=\"sk-toggleable__label sk-toggleable__label-arrow\">LogisticRegression</label><div class=\"sk-toggleable__content\"><pre>LogisticRegression()</pre></div></div></div></div></div>"
      ],
      "text/plain": [
       "LogisticRegression()"
      ]
     },
     "execution_count": 6,
     "metadata": {},
     "output_type": "execute_result"
    }
   ],
   "source": [
    "# Fit model\n",
    "lr1 = LogisticRegression().fit(x1_train, y1_train) # model untuk data group\n",
    "lr1"
   ]
  },
  {
   "cell_type": "code",
   "execution_count": 7,
   "metadata": {},
   "outputs": [],
   "source": [
    "# Predict x test\n",
    "predict_lr1 = lr1.predict(x1_test)"
   ]
  },
  {
   "cell_type": "code",
   "execution_count": 8,
   "metadata": {},
   "outputs": [
    {
     "data": {
      "text/html": [
       "<div>\n",
       "<style scoped>\n",
       "    .dataframe tbody tr th:only-of-type {\n",
       "        vertical-align: middle;\n",
       "    }\n",
       "\n",
       "    .dataframe tbody tr th {\n",
       "        vertical-align: top;\n",
       "    }\n",
       "\n",
       "    .dataframe thead th {\n",
       "        text-align: right;\n",
       "    }\n",
       "</style>\n",
       "<table border=\"1\" class=\"dataframe\">\n",
       "  <thead>\n",
       "    <tr style=\"text-align: right;\">\n",
       "      <th></th>\n",
       "      <th>Predicted No</th>\n",
       "      <th>Predicted Yes</th>\n",
       "    </tr>\n",
       "  </thead>\n",
       "  <tbody>\n",
       "    <tr>\n",
       "      <th>Actual No</th>\n",
       "      <td>23114</td>\n",
       "      <td>21209</td>\n",
       "    </tr>\n",
       "    <tr>\n",
       "      <th>Actual Yes</th>\n",
       "      <td>20729</td>\n",
       "      <td>23350</td>\n",
       "    </tr>\n",
       "  </tbody>\n",
       "</table>\n",
       "</div>"
      ],
      "text/plain": [
       "            Predicted No  Predicted Yes\n",
       "Actual No          23114          21209\n",
       "Actual Yes         20729          23350"
      ]
     },
     "execution_count": 8,
     "metadata": {},
     "output_type": "execute_result"
    }
   ],
   "source": [
    "# Confusion Matrix\n",
    "pd.DataFrame(confusion_matrix(y1_test, predict_lr1),columns=['Predicted No','Predicted Yes'],index=['Actual No','Actual Yes'])"
   ]
  },
  {
   "cell_type": "code",
   "execution_count": 9,
   "metadata": {},
   "outputs": [
    {
     "name": "stdout",
     "output_type": "stream",
     "text": [
      "              precision    recall  f1-score   support\n",
      "\n",
      "           0       0.53      0.52      0.52     44323\n",
      "           1       0.52      0.53      0.53     44079\n",
      "\n",
      "    accuracy                           0.53     88402\n",
      "   macro avg       0.53      0.53      0.53     88402\n",
      "weighted avg       0.53      0.53      0.53     88402\n",
      "\n"
     ]
    }
   ],
   "source": [
    "# Classification report\n",
    "print(classification_report(y1_test, predict_lr1))"
   ]
  },
  {
   "attachments": {},
   "cell_type": "markdown",
   "metadata": {},
   "source": [
    "**Precision:** Untuk kelas positif (1) hasil presisinya 0.52 yang berarti model memprediksi hasil positif dan hasilnya benar 52%\n",
    "\n",
    "**Recall:** Recall sebesar 0,53 berarti model mengidentifikasi dengan benar 53% dari semua kasus positif yang sebenarnya.\n",
    "\n",
    "**F1-score:** F1-score untuk kedua kelas (0 dan 1) adalah 0.53, yang mengindikasikan keseimbangan antara presisi dan recall.\n"
   ]
  },
  {
   "cell_type": "code",
   "execution_count": 10,
   "metadata": {},
   "outputs": [
    {
     "name": "stdout",
     "output_type": "stream",
     "text": [
      "x1, y1 train logistic regression score: 0.525406808707997\n",
      "x1, y1 test logistic regression score: 0.5255989683491323\n"
     ]
    }
   ],
   "source": [
    "# Logistic regression score\n",
    "print('x1, y1 train logistic regression score:',lr1.score(x1_train,y1_train))\n",
    "print('x1, y1 test logistic regression score:',lr1.score(x1_test,y1_test))"
   ]
  },
  {
   "cell_type": "code",
   "execution_count": 11,
   "metadata": {},
   "outputs": [
    {
     "name": "stdout",
     "output_type": "stream",
     "text": [
      "Logistic Regression Cross-Validation Scores: [0.52730707 0.52622113 0.52614194 0.531951   0.52115926]\n"
     ]
    }
   ],
   "source": [
    "# Model evaluation data group\n",
    "lr1_scores = cross_val_score(lr1, x1_lr, y1_lr, cv=5)\n",
    "print(\"Logistic Regression Cross-Validation Scores:\", lr1_scores)"
   ]
  },
  {
   "attachments": {},
   "cell_type": "markdown",
   "metadata": {},
   "source": [
    "Nilai cross-validation untuk model ini berkisar antara 0,521 sampai 0,531 yang menunjukkan bahwa model tidak berkinerja baik dengan data dengan akurasi rata-rata sekitar 52,6%. Variabilitas nilai di seluruh folds menunjukkan bahwa model tidak berkinerja dengan baik dan kemungkinan besar underfit. Underfit terjadi karena model terlalu sederhana untuk menangkap pola dari data yang mengakibatkan kinerja yang buruk, maka dari itu diperlukan untuk menggunakan model lain yang lebih kompleks untuk mengatasi masalah underfit."
   ]
  },
  {
   "cell_type": "code",
   "execution_count": 12,
   "metadata": {},
   "outputs": [
    {
     "name": "stdout",
     "output_type": "stream",
     "text": [
      "Best Parameters - : {'C': 0.001}\n",
      "Train Accuracy - : 0.527\n",
      "Test Accuracy - : 0.528\n"
     ]
    }
   ],
   "source": [
    "# Hyperparameter tuning data group\n",
    "lr = LogisticRegression(solver='liblinear', penalty='l1')\n",
    "param_grid = {'C': [0.001, 0.01, 0.1, 1, 10, 100, 1000] }\n",
    "lr_Grid = GridSearchCV(lr, param_grid, cv=10, scoring='accuracy')\n",
    "\n",
    "# Fitting model\n",
    "lr_Grid.fit(x1_train, y1_train)\n",
    "\n",
    "print(f'Best Parameters - : {lr_Grid.best_params_}')\n",
    "print(f'Train Accuracy - : {lr_Grid.score(x1_train, y1_train):.3f}')\n",
    "print(f'Test Accuracy - : {lr_Grid.score(x1_test, y1_test):.3f}')"
   ]
  },
  {
   "attachments": {},
   "cell_type": "markdown",
   "metadata": {},
   "source": [
    "Ditemukan parameter terbaik, yaitu 'C' dengan nilai 0.001, yang kemudian digunakan dalam pembentukan model. Akurasi saat melatih model menunjukkan angka sekitar 52.7%, mengindikasikan bahwa model berhasil memprediksi sebagian besar data train. Meski demikian, angka akurasi ini tidak terbilang tinggi. Begitu juga dengan akurasi pada data test, yang sekitar 52.8%. Akurasi pada kedua set data yang bernilai rendah dapat menandakan bahwa model ini mungkin mengalami kendala dalam melakukan prediksi dengan baik.."
   ]
  },
  {
   "cell_type": "code",
   "execution_count": 20,
   "metadata": {},
   "outputs": [
    {
     "name": "stdout",
     "output_type": "stream",
     "text": [
      "Feature importance:\n",
      "Feature: Married/Single, Importance: 0.2635648247636296\n",
      "Feature: Profession_Group, Importance: 0.004592273961383481\n",
      "Feature: Age_Group, Importance: 0.07118712067640448\n",
      "Feature: Income_Group, Importance: 0.07058017870039529\n",
      "Feature: Experience Group, Importance: 0.06733711021124363\n",
      "Feature: CUREENT_JOB_Group, Importance: 0.08161860464884309\n",
      "Feature: State_Zone, Importance: 0.026107693956001293\n",
      "Feature: City_State, Importance: 0.009382515371557053\n",
      "<class 'pandas.core.frame.DataFrame'>\n",
      "RangeIndex: 353606 entries, 0 to 353605\n",
      "Data columns (total 8 columns):\n",
      " #   Column             Non-Null Count   Dtype  \n",
      "---  ------             --------------   -----  \n",
      " 0   Married/Single     353606 non-null  float64\n",
      " 1   Profession_Group   353606 non-null  float64\n",
      " 2   Age_Group          353606 non-null  float64\n",
      " 3   Income_Group       353606 non-null  float64\n",
      " 4   Experience Group   353606 non-null  float64\n",
      " 5   CUREENT_JOB_Group  353606 non-null  float64\n",
      " 6   State_Zone         353606 non-null  float64\n",
      " 7   City_State         353606 non-null  float64\n",
      "dtypes: float64(8)\n",
      "memory usage: 21.6 MB\n"
     ]
    }
   ],
   "source": [
    "# Assuming x1_train and y1_train are your training data\n",
    "model = LogisticRegression()\n",
    "model.fit(x1_train, y1_train)\n",
    "\n",
    "# Extract feature importance values\n",
    "if hasattr(model, 'coef_'):\n",
    "    if len(model.coef_) == 1:\n",
    "        feature_importance = np.abs(model.coef_[0])\n",
    "    else:\n",
    "        feature_importance = np.abs(np.mean(model.coef_, axis=0))\n",
    "elif hasattr(model, 'feature_importances_'):\n",
    "    feature_importance = model.feature_importances_\n",
    "else:\n",
    "    raise AttributeError(\"Feature importance not available for the given model.\")\n",
    "\n",
    "x1_train_df = pd.DataFrame(x1_train, columns=['Married/Single', 'Profession_Group', 'Age_Group', 'Income_Group', 'Experience Group', 'CUREENT_JOB_Group', 'State_Zone', 'City_State'])\n",
    "\n",
    "# Create a dictionary with feature names and their importance values\n",
    "feature_importance_dict = dict(zip(x1_train_df.columns, feature_importance))\n",
    "\n",
    "# Print feature importance\n",
    "print(\"Feature importance:\")\n",
    "for feature, importance in feature_importance_dict.items():\n",
    "    print(f\"Feature: {feature}, Importance: {importance}\")\n",
    "\n",
    "x1_train_df.info()"
   ]
  },
  {
   "cell_type": "code",
   "execution_count": 21,
   "metadata": {},
   "outputs": [
    {
     "data": {
      "image/png": "[encoded data removed]",
      "text/plain": [
       "<Figure size 1000x600 with 1 Axes>"
      ]
     },
     "metadata": {},
     "output_type": "display_data"
    }
   ],
   "source": [
    "# Sort the feature importance dictionary by values in descending order\n",
    "sorted_feature_importance = {k: v for k, v in sorted(feature_importance_dict.items(), key=lambda item: abs(item[1]))}\n",
    "\n",
    "# Extract feature names and importance values\n",
    "features = list(sorted_feature_importance.keys())\n",
    "importance = list(sorted_feature_importance.values())\n",
    "\n",
    "# Create a bar plot\n",
    "plt.figure(figsize=(10, 6))\n",
    "plt.barh(features, importance, color='skyblue')\n",
    "plt.xlabel('Importance')\n",
    "plt.ylabel('Features')\n",
    "plt.title('Feature Importance for Logistic Regression Model')\n",
    "plt.show()"
   ]
  },
  {
   "attachments": {},
   "cell_type": "markdown",
   "metadata": {},
   "source": [
    "Interpretasi:\n",
    "\n",
    "- Feature marriage status memiliki pengaruh tinggi dalam approval loan karena nasabah dengan status menikah akan lebih bertanggungjawab atas pinjamannya\n",
    "- Feature lain tidak begitu berpengaruh karena perbedaannya terlalu signifikan terhadap marriage status"
   ]
  },
  {
   "attachments": {},
   "cell_type": "markdown",
   "metadata": {},
   "source": [
    "### Data Mentah"
   ]
  },
  {
   "cell_type": "code",
   "execution_count": 22,
   "metadata": {},
   "outputs": [],
   "source": [
    "# Split train & test\n",
    "## data mentah\n",
    "x2_train, x2_test, y2_train, y2_test = train_test_split(x2_lr, y2_lr, test_size=0.2, random_state=42)"
   ]
  },
  {
   "cell_type": "code",
   "execution_count": 23,
   "metadata": {},
   "outputs": [
    {
     "data": {
      "text/html": [
       "<style>#sk-container-id-2 {color: black;}#sk-container-id-2 pre{padding: 0;}#sk-container-id-2 div.sk-toggleable {background-color: white;}#sk-container-id-2 label.sk-toggleable__label {cursor: pointer;display: block;width: 100%;margin-bottom: 0;padding: 0.3em;box-sizing: border-box;text-align: center;}#sk-container-id-2 label.sk-toggleable__label-arrow:before {content: \"▸\";float: left;margin-right: 0.25em;color: #696969;}#sk-container-id-2 label.sk-toggleable__label-arrow:hover:before {color: black;}#sk-container-id-2 div.sk-estimator:hover label.sk-toggleable__label-arrow:before {color: black;}#sk-container-id-2 div.sk-toggleable__content {max-height: 0;max-width: 0;overflow: hidden;text-align: left;background-color: #f0f8ff;}#sk-container-id-2 div.sk-toggleable__content pre {margin: 0.2em;color: black;border-radius: 0.25em;background-color: #f0f8ff;}#sk-container-id-2 input.sk-toggleable__control:checked~div.sk-toggleable__content {max-height: 200px;max-width: 100%;overflow: auto;}#sk-container-id-2 input.sk-toggleable__control:checked~label.sk-toggleable__label-arrow:before {content: \"▾\";}#sk-container-id-2 div.sk-estimator input.sk-toggleable__control:checked~label.sk-toggleable__label {background-color: #d4ebff;}#sk-container-id-2 div.sk-label input.sk-toggleable__control:checked~label.sk-toggleable__label {background-color: #d4ebff;}#sk-container-id-2 input.sk-hidden--visually {border: 0;clip: rect(1px 1px 1px 1px);clip: rect(1px, 1px, 1px, 1px);height: 1px;margin: -1px;overflow: hidden;padding: 0;position: absolute;width: 1px;}#sk-container-id-2 div.sk-estimator {font-family: monospace;background-color: #f0f8ff;border: 1px dotted black;border-radius: 0.25em;box-sizing: border-box;margin-bottom: 0.5em;}#sk-container-id-2 div.sk-estimator:hover {background-color: #d4ebff;}#sk-container-id-2 div.sk-parallel-item::after {content: \"\";width: 100%;border-bottom: 1px solid gray;flex-grow: 1;}#sk-container-id-2 div.sk-label:hover label.sk-toggleable__label {background-color: #d4ebff;}#sk-container-id-2 div.sk-serial::before {content: \"\";position: absolute;border-left: 1px solid gray;box-sizing: border-box;top: 0;bottom: 0;left: 50%;z-index: 0;}#sk-container-id-2 div.sk-serial {display: flex;flex-direction: column;align-items: center;background-color: white;padding-right: 0.2em;padding-left: 0.2em;position: relative;}#sk-container-id-2 div.sk-item {position: relative;z-index: 1;}#sk-container-id-2 div.sk-parallel {display: flex;align-items: stretch;justify-content: center;background-color: white;position: relative;}#sk-container-id-2 div.sk-item::before, #sk-container-id-2 div.sk-parallel-item::before {content: \"\";position: absolute;border-left: 1px solid gray;box-sizing: border-box;top: 0;bottom: 0;left: 50%;z-index: -1;}#sk-container-id-2 div.sk-parallel-item {display: flex;flex-direction: column;z-index: 1;position: relative;background-color: white;}#sk-container-id-2 div.sk-parallel-item:first-child::after {align-self: flex-end;width: 50%;}#sk-container-id-2 div.sk-parallel-item:last-child::after {align-self: flex-start;width: 50%;}#sk-container-id-2 div.sk-parallel-item:only-child::after {width: 0;}#sk-container-id-2 div.sk-dashed-wrapped {border: 1px dashed gray;margin: 0 0.4em 0.5em 0.4em;box-sizing: border-box;padding-bottom: 0.4em;background-color: white;}#sk-container-id-2 div.sk-label label {font-family: monospace;font-weight: bold;display: inline-block;line-height: 1.2em;}#sk-container-id-2 div.sk-label-container {text-align: center;}#sk-container-id-2 div.sk-container {/* jupyter's `normalize.less` sets `[hidden] { display: none; }` but bootstrap.min.css set `[hidden] { display: none !important; }` so we also need the `!important` here to be able to override the default hidden behavior on the sphinx rendered scikit-learn.org. See: https://github.com/scikit-learn/scikit-learn/issues/21755 */display: inline-block !important;position: relative;}#sk-container-id-2 div.sk-text-repr-fallback {display: none;}</style><div id=\"sk-container-id-2\" class=\"sk-top-container\"><div class=\"sk-text-repr-fallback\"><pre>LogisticRegression(max_iter=1000)</pre><b>In a Jupyter environment, please rerun this cell to show the HTML representation or trust the notebook. <br />On GitHub, the HTML representation is unable to render, please try loading this page with nbviewer.org.</b></div><div class=\"sk-container\" hidden><div class=\"sk-item\"><div class=\"sk-estimator sk-toggleable\"><input class=\"sk-toggleable__control sk-hidden--visually\" id=\"sk-estimator-id-2\" type=\"checkbox\" checked><label for=\"sk-estimator-id-2\" class=\"sk-toggleable__label sk-toggleable__label-arrow\">LogisticRegression</label><div class=\"sk-toggleable__content\"><pre>LogisticRegression(max_iter=1000)</pre></div></div></div></div></div>"
      ],
      "text/plain": [
       "LogisticRegression(max_iter=1000)"
      ]
     },
     "execution_count": 23,
     "metadata": {},
     "output_type": "execute_result"
    }
   ],
   "source": [
    "# Fit model\n",
    "lr2 = LogisticRegression(max_iter=1000).fit(x2_train, y2_train) # model untuk data mentah\n",
    "lr2"
   ]
  },
  {
   "cell_type": "code",
   "execution_count": 24,
   "metadata": {},
   "outputs": [],
   "source": [
    "# Predict x test\n",
    "predict_lr2 = lr2.predict(x2_test)"
   ]
  },
  {
   "cell_type": "code",
   "execution_count": 25,
   "metadata": {},
   "outputs": [
    {
     "data": {
      "text/html": [
       "<div>\n",
       "<style scoped>\n",
       "    .dataframe tbody tr th:only-of-type {\n",
       "        vertical-align: middle;\n",
       "    }\n",
       "\n",
       "    .dataframe tbody tr th {\n",
       "        vertical-align: top;\n",
       "    }\n",
       "\n",
       "    .dataframe thead th {\n",
       "        text-align: right;\n",
       "    }\n",
       "</style>\n",
       "<table border=\"1\" class=\"dataframe\">\n",
       "  <thead>\n",
       "    <tr style=\"text-align: right;\">\n",
       "      <th></th>\n",
       "      <th>Predicted No</th>\n",
       "      <th>Predicted Yes</th>\n",
       "    </tr>\n",
       "  </thead>\n",
       "  <tbody>\n",
       "    <tr>\n",
       "      <th>Actual No</th>\n",
       "      <td>44147</td>\n",
       "      <td>0</td>\n",
       "    </tr>\n",
       "    <tr>\n",
       "      <th>Actual Yes</th>\n",
       "      <td>6253</td>\n",
       "      <td>0</td>\n",
       "    </tr>\n",
       "  </tbody>\n",
       "</table>\n",
       "</div>"
      ],
      "text/plain": [
       "            Predicted No  Predicted Yes\n",
       "Actual No          44147              0\n",
       "Actual Yes          6253              0"
      ]
     },
     "execution_count": 25,
     "metadata": {},
     "output_type": "execute_result"
    }
   ],
   "source": [
    "# Confusion Matrix\n",
    "pd.DataFrame(confusion_matrix(y2_test, predict_lr2),columns=['Predicted No','Predicted Yes'],index=['Actual No','Actual Yes'])"
   ]
  },
  {
   "cell_type": "code",
   "execution_count": 26,
   "metadata": {},
   "outputs": [
    {
     "name": "stdout",
     "output_type": "stream",
     "text": [
      "              precision    recall  f1-score   support\n",
      "\n",
      "           0       0.88      1.00      0.93     44147\n",
      "           1       0.00      0.00      0.00      6253\n",
      "\n",
      "    accuracy                           0.88     50400\n",
      "   macro avg       0.44      0.50      0.47     50400\n",
      "weighted avg       0.77      0.88      0.82     50400\n",
      "\n"
     ]
    }
   ],
   "source": [
    "# Classification report\n",
    "print(classification_report(y2_test, predict_lr2, zero_division=0))"
   ]
  },
  {
   "attachments": {},
   "cell_type": "markdown",
   "metadata": {},
   "source": [
    "**Precision:** Presisi untuk kelas 0 (kelas negatif) adalah 0,88, yang berarti bahwa ketika model memprediksi sebuah contoh sebagai kelas 0, model tersebut benar 88%. Presisi untuk kelas 1 (kelas positif) adalah 0.00, yang menunjukkan bahwa model tidak memprediksi dengan benar setiap instance sebagai kelas 1\n",
    "\n",
    "**Recall:** Recall untuk kelas 0 adalah 1.00, menunjukkan bahwa model mengidentifikasi dengan benar semua contoh kelas 0. Recall untuk kelas 1 adalah 0.00, menunjukkan bahwa model tidak mengidentifikasi contoh kelas 1 dengan benar\n",
    "\n",
    "**F1-score:** F1-score untuk kelas 0 adalah 0.93, yang merupakan rata-rata harmonis dari presisi dan recall untuk kelas 0. F1-score untuk kelas 1 adalah 0.00, menunjukkan bahwa kinerja model untuk kelas 1 sangat buruk\n",
    "\n",
    "Kinerja model untuk kelas 0 relatif baik, dengan presisi, recall, dan F1-score yang tinggi. Namun, performa model untuk kelas 1 sangat buruk, dengan semua metrik menunjukkan bahwa model gagal memprediksi dengan benar setiap contoh dari kelas 1. Hal ini menunjukkan bahwa model data mentah sangat bias terhadap kelas mayoritas dan gagal mengidentifikasi contoh dari kelas minoritas secara efektif."
   ]
  },
  {
   "cell_type": "code",
   "execution_count": 27,
   "metadata": {},
   "outputs": [
    {
     "name": "stdout",
     "output_type": "stream",
     "text": [
      "x2, y2 train logistic regression score: 0.8772668650793651\n",
      "x2, y2 test logistic regression score: 0.8759325396825397\n"
     ]
    }
   ],
   "source": [
    "# Logistic regression score\n",
    "print('x2, y2 train logistic regression score:',lr2.score(x2_train,y2_train))\n",
    "print('x2, y2 test logistic regression score:',lr2.score(x2_test,y2_test))"
   ]
  },
  {
   "cell_type": "code",
   "execution_count": 28,
   "metadata": {},
   "outputs": [
    {
     "name": "stdout",
     "output_type": "stream",
     "text": [
      "Logistic Regression Cross-Validation Scores: [0.87700397 0.87700397 0.87700397 0.87700397 0.87698413]\n"
     ]
    }
   ],
   "source": [
    "# Model evaluation data mentah\n",
    "lr2_scores = cross_val_score(lr2, x2_lr, y2_lr, cv=5)\n",
    "print(\"Logistic Regression Cross-Validation Scores:\", lr2_scores)"
   ]
  },
  {
   "attachments": {},
   "cell_type": "markdown",
   "metadata": {},
   "source": [
    "Dengan menggunakan cross-validation sebanyak 5 folds dengan kesamaan nilai sekitar 87.7% menunjukkan bahwa model ini stabil, atau bisa dikatakan model ini sudah best-fit."
   ]
  },
  {
   "cell_type": "code",
   "execution_count": 30,
   "metadata": {},
   "outputs": [
    {
     "name": "stdout",
     "output_type": "stream",
     "text": [
      "Best Parameters - : {'C': 0.001}\n",
      "Train Accuracy - : 0.877\n",
      "Test Accuracy - : 0.876\n"
     ]
    }
   ],
   "source": [
    "# Hyperparameter tuning data mentah\n",
    "lr = LogisticRegression(solver='liblinear', penalty='l1')\n",
    "param_grid = {'C': [0.001, 0.01, 0.1, 1, 10, 100, 1000] }\n",
    "lr_Grid = GridSearchCV(lr, param_grid, cv=10, scoring='accuracy')\n",
    "\n",
    "# Fitting model\n",
    "lr_Grid.fit(x2_train, y2_train)\n",
    "\n",
    "print(f'Best Parameters - : {lr_Grid.best_params_}')\n",
    "print(f'Train Accuracy - : {lr_Grid.score(x2_train, y2_train):.3f}')\n",
    "print(f'Test Accuracy - : {lr_Grid.score(x2_test, y2_test):.3f}')"
   ]
  },
  {
   "attachments": {},
   "cell_type": "markdown",
   "metadata": {},
   "source": [
    "Hasil penelitian menunjukkan bahwa parameter optimal yang ditemukan adalah 'C' dengan nilai 0.001. Nilai ini berkontribusi pada performa terbaik model dalam konteks algoritma yang digunakan. Kinerja model saat pelatihan mencapai akurasi sekitar 87.7%, menandakan kemampuan model dalam memprediksi dengan benar sebagian besar data train yang digunakan. Sementara itu, akurasi pada data test mencapai sekitar 87.6%, mengindikasikan kemampuan model dalam melakukan prediksi yang baik bahkan pada data yang belum pernah dilihat sebelumnya."
   ]
  },
  {
   "cell_type": "code",
   "execution_count": 37,
   "metadata": {},
   "outputs": [
    {
     "name": "stdout",
     "output_type": "stream",
     "text": [
      "Feature importance:\n",
      "Feature: Income, Importance: 0.028490391814716767\n",
      "Feature: Age, Importance: 0.17825542309494505\n",
      "Feature: Experience, Importance: 0.4791206677033853\n",
      "Feature: CURRENT_JOB_YRS, Importance: 0.18152484494198995\n",
      "Feature: CURRENT_HOUSE_YRS, Importance: 0.043619949042191145\n",
      "Feature: Married/Single, Importance: 0.24201644122274873\n",
      "Feature: House_Ownership, Importance: 0.17960692955342022\n",
      "Feature: Car_Ownership, Importance: 0.15954042650359807\n",
      "Feature: Profession, Importance: 0.001177443231031063\n",
      "Feature: CITY, Importance: 0.0001296127403484692\n",
      "Feature: STATE, Importance: 0.001294461637832227\n",
      "<class 'pandas.core.frame.DataFrame'>\n",
      "RangeIndex: 201600 entries, 0 to 201599\n",
      "Data columns (total 11 columns):\n",
      " #   Column             Non-Null Count   Dtype  \n",
      "---  ------             --------------   -----  \n",
      " 0   Income             201600 non-null  float64\n",
      " 1   Age                201600 non-null  float64\n",
      " 2   Experience         201600 non-null  float64\n",
      " 3   CURRENT_JOB_YRS    201600 non-null  float64\n",
      " 4   CURRENT_HOUSE_YRS  201600 non-null  float64\n",
      " 5   Married/Single     201600 non-null  float64\n",
      " 6   House_Ownership    201600 non-null  float64\n",
      " 7   Car_Ownership      201600 non-null  float64\n",
      " 8   Profession         201600 non-null  float64\n",
      " 9   CITY               201600 non-null  float64\n",
      " 10  STATE              201600 non-null  float64\n",
      "dtypes: float64(11)\n",
      "memory usage: 16.9 MB\n"
     ]
    },
    {
     "name": "stderr",
     "output_type": "stream",
     "text": [
      "c:\\Users\\Alyani\\anaconda3\\Lib\\site-packages\\sklearn\\linear_model\\_logistic.py:460: ConvergenceWarning: lbfgs failed to converge (status=1):\n",
      "STOP: TOTAL NO. of ITERATIONS REACHED LIMIT.\n",
      "\n",
      "Increase the number of iterations (max_iter) or scale the data as shown in:\n",
      "    https://scikit-learn.org/stable/modules/preprocessing.html\n",
      "Please also refer to the documentation for alternative solver options:\n",
      "    https://scikit-learn.org/stable/modules/linear_model.html#logistic-regression\n",
      "  n_iter_i = _check_optimize_result(\n"
     ]
    }
   ],
   "source": [
    "model = LogisticRegression()\n",
    "model.fit(x2_train, y2_train)\n",
    "\n",
    "# Extract feature importance values\n",
    "if hasattr(model, 'coef_'):\n",
    "    if len(model.coef_) == 1:\n",
    "        feature_importance = np.abs(model.coef_[0])\n",
    "    else:\n",
    "        feature_importance = np.abs(np.mean(model.coef_, axis=0))\n",
    "elif hasattr(model, 'feature_importances_'):\n",
    "    feature_importance = model.feature_importances_\n",
    "else:\n",
    "    raise AttributeError(\"Feature importance not available for the given model.\")\n",
    "\n",
    "x2_train_df = pd.DataFrame(x2_train, columns=['Income', 'Age', 'Experience', \n",
    "                                              'CURRENT_JOB_YRS', 'CURRENT_HOUSE_YRS', 'Married/Single',\n",
    "                                              'House_Ownership', 'Car_Ownership', 'Profession',\n",
    "                                              'CITY', 'STATE'])\n",
    "\n",
    "# Create a dictionary with feature names and their importance values\n",
    "feature_importance_dict = dict(zip(x2_train_df.columns, feature_importance))\n",
    "\n",
    "print(\"Feature importance:\")\n",
    "for feature, importance in feature_importance_dict.items():\n",
    "    print(f\"Feature: {feature}, Importance: {importance}\")\n",
    "\n",
    "x2_train_df.info()"
   ]
  },
  {
   "cell_type": "code",
   "execution_count": 38,
   "metadata": {},
   "outputs": [
    {
     "data": {
      "image/png": "[encoded data removed]",
      "text/plain": [
       "<Figure size 1000x600 with 1 Axes>"
      ]
     },
     "metadata": {},
     "output_type": "display_data"
    }
   ],
   "source": [
    "# Sort the feature importance dictionary by values in descending order\n",
    "sorted_feature_importance = {k: v for k, v in sorted(feature_importance_dict.items(), key=lambda item: abs(item[1]))}\n",
    "\n",
    "# Extract feature names and importance values\n",
    "features = list(sorted_feature_importance.keys())\n",
    "importance = list(sorted_feature_importance.values())\n",
    "\n",
    "# Create a bar plot\n",
    "plt.figure(figsize=(10, 6))\n",
    "plt.barh(features, importance, color='skyblue')\n",
    "plt.xlabel('Importance')\n",
    "plt.ylabel('Features')\n",
    "plt.title('Feature Importance for Logistic Regression Model')\n",
    "plt.show()"
   ]
  },
  {
   "attachments": {},
   "cell_type": "markdown",
   "metadata": {},
   "source": [
    "Interpretasi: \n",
    "\n",
    "- Feature ‘Experience’ merupakan feature dengan nilai importance tertinggi, semakin tinggi jabatan seseorang bekerja semakin besar approval loannya karena dianggap memiliki pendapatan yang stabil.\n",
    "- Feature ‘Married/Single’ merupakan feature dengan nilai importance tertinggi kedua, nasabah dengan status married akan lebih dianggap bertanggungjawab dengan pinjamannya.\n",
    "- Feature ‘CURRENT_JOB_YRS’, ‘House_Ownership’, dan ‘Age’ merupakan feature dengan nilai importance tertinggi ketiga dengan nilai yang sama. Lama bekerja, kepemilikan rumah, dan umur juga menjadi pertimbangan dalam loan approval.\n",
    "- Feature ‘CURRENT_HOUSE_YRS’ menjadi feature dengan nilai importance tertinggi keempat karena mempertimbangkan apakah orang tersebut berpindah-pindah tempat tinggal atau tidak.\n",
    "- Feature ‘Income’ menjadi feature dengan importance tertinggi kelima karena menunjukkan kemampuan seseorang dalam membayar pinjaman sesuai pendapatannya. Tetapi nilai yang didapatkan dalam menggunakan model ini sangat rendah sehingga kurang bisa dikatakan berpengaruh.\n"
   ]
  }
 ],
 "metadata": {
  "kernelspec": {
   "display_name": "base",
   "language": "python",
   "name": "python3"
  },
  "language_info": {
   "codemirror_mode": {
    "name": "ipython",
    "version": 3
   },
   "file_extension": ".py",
   "mimetype": "text/x-python",
   "name": "python",
   "nbconvert_exporter": "python",
   "pygments_lexer": "ipython3",
   "version": "3.11.4"
  },
  "orig_nbformat": 4
 },
 "nbformat": 4,
 "nbformat_minor": 2
}
